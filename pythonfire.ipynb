{
 "metadata": {
  "language_info": {
   "codemirror_mode": {
    "name": "ipython",
    "version": 3
   },
   "file_extension": ".py",
   "mimetype": "text/x-python",
   "name": "python",
   "nbconvert_exporter": "python",
   "pygments_lexer": "ipython3",
   "version": "3.9.4"
  },
  "orig_nbformat": 2,
  "kernelspec": {
   "name": "python394jvsc74a57bd09356999330047e68fef567d48d8dd827db1b7a2b2c2116ef33089a1805c625c9",
   "display_name": "Python 3.9.4 64-bit ('PYTHONFIRE': pipenv)"
  }
 },
 "nbformat": 4,
 "nbformat_minor": 2,
 "cells": [
  {
   "cell_type": "code",
   "execution_count": 6,
   "metadata": {},
   "outputs": [],
   "source": [
    "from firebase import firebase"
   ]
  },
  {
   "cell_type": "code",
   "execution_count": 7,
   "metadata": {},
   "outputs": [
    {
     "output_type": "stream",
     "name": "stdout",
     "text": [
      "Dobles Comilla\nComillas simples\n"
     ]
    }
   ],
   "source": [
    "print(\"Dobles Comilla\")\n",
    "print('Comillas simples')"
   ]
  },
  {
   "cell_type": "code",
   "execution_count": 8,
   "metadata": {},
   "outputs": [
    {
     "output_type": "stream",
     "name": "stdout",
     "text": [
      "{'s1': {'name': 'Victor'}, 's2': {'name': 'Susana'}}\n"
     ]
    }
   ],
   "source": [
    "db = firebase.FirebaseApplication(\"https://pythonfire-cb1ab-default-rtdb.firebaseio.com/\",None)\n",
    "\n",
    "result = db.get('/students', None)\n",
    "\n",
    "print(result)"
   ]
  },
  {
   "cell_type": "code",
   "execution_count": null,
   "metadata": {},
   "outputs": [],
   "source": []
  },
  {
   "cell_type": "code",
   "execution_count": 9,
   "metadata": {},
   "outputs": [
    {
     "output_type": "stream",
     "name": "stdout",
     "text": [
      "{'name': 'Ivan', 'msj': 'Si asisti a su clase'}\n"
     ]
    }
   ],
   "source": [
    "class Student:\n",
    "    def __init__(self,name,msj):\n",
    "        self.name = name\n",
    "        self.msj = msj\n",
    "\n",
    "s1 = Student(\"Ivan\",\"Si asisti a su clase\")\n",
    "\n",
    "data_s1 = vars(s1)\n",
    "print(data_s1)"
   ]
  },
  {
   "cell_type": "code",
   "execution_count": 10,
   "metadata": {},
   "outputs": [
    {
     "output_type": "stream",
     "name": "stdout",
     "text": [
      "Registre asistencia de Ivan\n"
     ]
    }
   ],
   "source": [
    "db.post('/asistencia/',data_s1)\n",
    "print(f\"Registre asistencia de { data_s1['name'] }\")"
   ]
  }
 ]
}